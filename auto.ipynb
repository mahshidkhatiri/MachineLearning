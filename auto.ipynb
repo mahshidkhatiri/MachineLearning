{
  "nbformat": 4,
  "nbformat_minor": 0,
  "metadata": {
    "colab": {
      "provenance": [],
      "include_colab_link": true
    },
    "kernelspec": {
      "name": "python3",
      "display_name": "Python 3"
    },
    "language_info": {
      "name": "python"
    }
  },
  "cells": [
    {
      "cell_type": "markdown",
      "metadata": {
        "id": "view-in-github",
        "colab_type": "text"
      },
      "source": [
        "<a href=\"https://colab.research.google.com/github/mahshidkhatiri/MachineLearning/blob/main/auto.ipynb\" target=\"_parent\"><img src=\"https://colab.research.google.com/assets/colab-badge.svg\" alt=\"Open In Colab\"/></a>"
      ]
    },
    {
      "cell_type": "code",
      "execution_count": 8,
      "metadata": {
        "id": "Yt7e72flBGox"
      },
      "outputs": [],
      "source": [
        "\n",
        "import pandas as pd\n",
        "import tensorflow as tf\n",
        "from tensorflow import keras\n",
        "from sklearn.preprocessing import StandardScaler\n",
        "import warnings\n",
        "from sklearn.model_selection import train_test_split\n",
        "import matplotlib.pyplot as plt\n",
        "import urllib\n",
        "import numpy as np\n",
        "from sklearn.preprocessing import StandardScaler\n",
        "import IPython\n",
        "!pip install -q -U keras-tuner\n",
        "import keras_tuner as kt\n",
        "warnings.filterwarnings('ignore')\n",
        "url = \"https://archive.ics.uci.edu/ml/machine-learning-databases/auto-mpg/auto-mpg.data\"\n",
        "file = urllib.request.urlopen(url)\n",
        "x=[]\n",
        "for line in file:\n",
        "    decoded_line = line.decode(\"utf-8\")\n",
        "    [values,car_name] = decoded_line.strip().split(\"\\t\")\n",
        "    values=values.split()\n",
        "    values.append(car_name)\n",
        "    x.append(values)\n",
        "df = pd.DataFrame(x,\n",
        "               columns =['mpg','cylinders','displacement','horsepower','weight'\n",
        "                            ,'acceleration','model_year','origin','car_name'])\n",
        "df=df.drop(['origin','car_name'], axis=1)\n",
        "df.model_year='19'+df.model_year\n",
        "df1 = df.apply(pd.to_numeric, errors='coerce')\n",
        "mean_horsepower= df1['horsepower'].mean(axis = 0, skipna = True)\n",
        "df1['horsepower']=df1['horsepower'].replace(np.nan,mean_horsepower)\n",
        "train, validation = train_test_split(df1, test_size=0.5, random_state=42)\n",
        "train_labels = train.iloc[:,0]\n",
        "val_labels = validation.iloc[:,0]\n",
        "x_train=train.drop(['mpg'], axis=1)\n",
        "x_valid=validation.drop(['mpg'], axis=1)\n",
        "scaler = StandardScaler()\n",
        "scaler.fit(x_train)\n",
        "x_train = scaler.transform(x_train)\n",
        "x_valid = scaler.transform(x_valid)\n"
      ]
    },
    {
      "cell_type": "code",
      "source": [
        "def model_builder(hp):\n",
        "  model = keras.models.Sequential()\n",
        "  model.add(keras.layers.Flatten(input_shape=[6]))\n",
        "  model.add(keras.layers.BatchNormalization())\n",
        "\n",
        "  hp_units_1 = hp.Int('units_1', min_value = 10, max_value = 80, step = 4)\n",
        "  model.add(keras.layers.Dense(units = hp_units_1, activation=\"elu\"))\n",
        "  model.add(keras.layers.BatchNormalization())\n",
        "  model. add(keras.layers.Dropout(rate=0.5))\n",
        "  hp_units_2 = hp.Int('units_2', min_value = 0, max_value = 100, step = 5)\n",
        "  model.add(keras.layers.Dense(units = hp_units_2,activation=\"relu\" ,kernel_initializer=\"he_normal\"))\n",
        "  model. add(keras.layers.Dropout(rate=0.5))\n",
        "  model.add(keras.layers.BatchNormalization())\n",
        "  hp_units_3 = hp.Int('units_3', min_value = 0, max_value = 100, step = 5)\n",
        "  model.add(keras.layers.Dense(units = hp_units_3, activation=\"relu\"))\n",
        "  model. add(keras.layers.Dropout(rate=0.5))\n",
        "  model.add(keras.layers.BatchNormalization())\n",
        "  model.add(keras.layers.Dense(1, activation='relu'))\n",
        "\n",
        "  # Tune the optimizer:\n",
        "  hp_optimizer = hp.Choice('optimizer', ['Adam', 'RMSProp', 'SGD', 'Adagrad', 'Adamax'])\n",
        "  model.compile(optimizer = hp_optimizer,\n",
        "                loss = keras.losses.MeanSquaredError())\n",
        "  return model"
      ],
      "metadata": {
        "id": "qromIRd7BiBt"
      },
      "execution_count": 9,
      "outputs": []
    },
    {
      "cell_type": "code",
      "source": [
        "tuner = kt.Hyperband(model_builder,\n",
        "                      objective = kt.Objective('val_loss', direction='min'),\n",
        "                     max_epochs = 20,\n",
        "                     factor = 3,\n",
        "                     overwrite = True)\n"
      ],
      "metadata": {
        "id": "njKetffwBiry"
      },
      "execution_count": 10,
      "outputs": []
    },
    {
      "cell_type": "code",
      "source": [
        "tuner.search(x_train, train_labels, epochs = 20, validation_data=(x_valid, val_labels))"
      ],
      "metadata": {
        "id": "LbMJ8w5NBlM4"
      },
      "execution_count": null,
      "outputs": []
    },
    {
      "cell_type": "code",
      "source": [
        "best_hps = tuner.get_best_hyperparameters(num_trials = 1)[0]\n",
        "print(best_hps.values)\n",
        "model = tuner.hypermodel.build(best_hps)\n",
        "keras.utils.plot_model(model, \"auto.png\", show_shapes=True, rankdir='LR')"
      ],
      "metadata": {
        "id": "UInbDPYMBnZS"
      },
      "execution_count": null,
      "outputs": []
    },
    {
      "cell_type": "code",
      "source": [
        "class myCallback(tf.keras.callbacks.Callback):\n",
        "    def on_epoch_end(self, epoch, logs={}):\n",
        "        print(logs)\n",
        "        if(logs.get('val_loss')<7):\n",
        "            print(\"Reached good training!\")\n",
        "            self.model.stop_training = True\n",
        "callback = myCallback()\n",
        "history=model.fit(x_train, train_labels, epochs=100,validation_data=(x_valid, val_labels),callbacks=[callback], verbose=1)\n"
      ],
      "metadata": {
        "id": "x056MNGjXU-g"
      },
      "execution_count": null,
      "outputs": []
    },
    {
      "cell_type": "code",
      "source": [
        "x_test = np.array([[6, 2170, 502, 3164, 4.2, 2023], #predicted:\"34.7\"\n",
        "[12, 6498 ,730 ,3472, 3.2, 2023], #predicted:\"24.4\"\n",
        " [8 ,3902 ,986 ,3020 ,2.5, 2023],#predicted:\"19.5\"\n",
        " [8 ,6162 ,670 ,3721 ,2.6 ,2023],#predicted:\"24.6\"\n",
        "[4 ,122, 181 ,2496, 8.3 ,2023],#predicted:\"50.9\"\n",
        "[6 ,3232, 155 ,3232, 11.5, 1969],#predicted:\"16.5\"\n",
        "[3 ,598, 89, 1550 ,10.1, 2023],#predicted:\"60\"\n",
        "[3 ,900, 50, 642, 5.8, 2023],#predicted:\"67\"\n",
        "[4 ,1189 ,60 ,2355 ,28.1 ,1964],#predicted:\"23\"\n",
        "[4 ,201, 40 ,2265 ,32, 1908]])#predicted:\"8\"\n",
        "x_test_s= scaler.transform(x_test)\n",
        "y_test= model.predict(x_test_s)\n",
        "for i in range(len(x_test)):\n",
        "  print(\"X=%s, Predicted mpg=%s\" % (x_test[i], y_test[i]))\n",
        "  \"\"\"As far as I searched about cars I understood sport cars' mpg is around 25 since the fuel efficiency doesn't matter in them\n",
        "   also it is because they are heavy and they have high horsepower also the displacement is large so these are the cause of the\n",
        "    low mpg in them.\"\"\"\n",
        "\n"
      ],
      "metadata": {
        "id": "wfbKPs7Q1X2g"
      },
      "execution_count": null,
      "outputs": []
    },
    {
      "cell_type": "code",
      "source": [],
      "metadata": {
        "id": "nxxXt7HBHWxL"
      },
      "execution_count": null,
      "outputs": []
    }
  ]
}